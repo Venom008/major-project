{
 "cells": [
  {
   "cell_type": "code",
   "execution_count": 194,
   "id": "dc24c655",
   "metadata": {},
   "outputs": [],
   "source": [
    "#Ashay Priyanka Aditya Chandan#"
   ]
  },
  {
   "cell_type": "code",
   "execution_count": 195,
   "id": "958c1b22",
   "metadata": {},
   "outputs": [],
   "source": [
    "import pandas as pd\n",
    "import numpy as np"
   ]
  },
  {
   "cell_type": "code",
   "execution_count": 196,
   "id": "5f7e7500",
   "metadata": {},
   "outputs": [],
   "source": [
    "data = pd.read_csv(\"D:\\Major project Data\\Airfoil_Noise.csv\")"
   ]
  },
  {
   "cell_type": "code",
   "execution_count": 197,
   "id": "37925a70",
   "metadata": {},
   "outputs": [
    {
     "data": {
      "text/html": [
       "<div>\n",
       "<style scoped>\n",
       "    .dataframe tbody tr th:only-of-type {\n",
       "        vertical-align: middle;\n",
       "    }\n",
       "\n",
       "    .dataframe tbody tr th {\n",
       "        vertical-align: top;\n",
       "    }\n",
       "\n",
       "    .dataframe thead th {\n",
       "        text-align: right;\n",
       "    }\n",
       "</style>\n",
       "<table border=\"1\" class=\"dataframe\">\n",
       "  <thead>\n",
       "    <tr style=\"text-align: right;\">\n",
       "      <th></th>\n",
       "      <th>Frequency, in Hertzs.</th>\n",
       "      <th>Angle of attack, in degrees.</th>\n",
       "      <th>Chord length, in meters.</th>\n",
       "      <th>Free-stream velocity, in meters per second.</th>\n",
       "      <th>Suction side displacement thickness, in meters.</th>\n",
       "      <th>Scaled sound pressure level, in decibels.</th>\n",
       "    </tr>\n",
       "  </thead>\n",
       "  <tbody>\n",
       "    <tr>\n",
       "      <th>0</th>\n",
       "      <td>800</td>\n",
       "      <td>0.0</td>\n",
       "      <td>0.3048</td>\n",
       "      <td>71.3</td>\n",
       "      <td>0.002663</td>\n",
       "      <td>126.201</td>\n",
       "    </tr>\n",
       "    <tr>\n",
       "      <th>1</th>\n",
       "      <td>1000</td>\n",
       "      <td>0.0</td>\n",
       "      <td>0.3048</td>\n",
       "      <td>71.3</td>\n",
       "      <td>0.002663</td>\n",
       "      <td>125.201</td>\n",
       "    </tr>\n",
       "    <tr>\n",
       "      <th>2</th>\n",
       "      <td>1250</td>\n",
       "      <td>0.0</td>\n",
       "      <td>0.3048</td>\n",
       "      <td>71.3</td>\n",
       "      <td>0.002663</td>\n",
       "      <td>125.951</td>\n",
       "    </tr>\n",
       "    <tr>\n",
       "      <th>3</th>\n",
       "      <td>1600</td>\n",
       "      <td>0.0</td>\n",
       "      <td>0.3048</td>\n",
       "      <td>71.3</td>\n",
       "      <td>0.002663</td>\n",
       "      <td>127.591</td>\n",
       "    </tr>\n",
       "    <tr>\n",
       "      <th>4</th>\n",
       "      <td>2000</td>\n",
       "      <td>0.0</td>\n",
       "      <td>0.3048</td>\n",
       "      <td>71.3</td>\n",
       "      <td>0.002663</td>\n",
       "      <td>127.461</td>\n",
       "    </tr>\n",
       "  </tbody>\n",
       "</table>\n",
       "</div>"
      ],
      "text/plain": [
       "   Frequency, in Hertzs.  Angle of attack, in degrees.  \\\n",
       "0                    800                           0.0   \n",
       "1                   1000                           0.0   \n",
       "2                   1250                           0.0   \n",
       "3                   1600                           0.0   \n",
       "4                   2000                           0.0   \n",
       "\n",
       "   Chord length, in meters.  Free-stream velocity, in meters per second.  \\\n",
       "0                    0.3048                                         71.3   \n",
       "1                    0.3048                                         71.3   \n",
       "2                    0.3048                                         71.3   \n",
       "3                    0.3048                                         71.3   \n",
       "4                    0.3048                                         71.3   \n",
       "\n",
       "   Suction side displacement thickness, in meters.  \\\n",
       "0                                         0.002663   \n",
       "1                                         0.002663   \n",
       "2                                         0.002663   \n",
       "3                                         0.002663   \n",
       "4                                         0.002663   \n",
       "\n",
       "   Scaled sound pressure level, in decibels.  \n",
       "0                                    126.201  \n",
       "1                                    125.201  \n",
       "2                                    125.951  \n",
       "3                                    127.591  \n",
       "4                                    127.461  "
      ]
     },
     "execution_count": 197,
     "metadata": {},
     "output_type": "execute_result"
    }
   ],
   "source": [
    "data.head()"
   ]
  },
  {
   "cell_type": "code",
   "execution_count": 198,
   "id": "44f67d8a",
   "metadata": {},
   "outputs": [],
   "source": [
    "y=data['Scaled sound pressure level, in decibels.']\n",
    "data.drop(['Scaled sound pressure level, in decibels.'],axis=1, inplace=True)\n",
    "X=data"
   ]
  },
  {
   "cell_type": "code",
   "execution_count": 199,
   "id": "0c3ab17b",
   "metadata": {},
   "outputs": [],
   "source": [
    "from sklearn.model_selection import train_test_split\n",
    "from sklearn.metrics import mean_squared_error, r2_score\n",
    "from sklearn.metrics import mean_absolute_error\n",
    "X_train, X_test, y_train, y_test = train_test_split(X, y, test_size=0.2)"
   ]
  },
  {
   "cell_type": "code",
   "execution_count": 200,
   "id": "23f778c6",
   "metadata": {},
   "outputs": [],
   "source": [
    "from sklearn.linear_model import LinearRegression\n",
    "model = LinearRegression()\n",
    "model = model.fit(X_train, y_train)"
   ]
  },
  {
   "cell_type": "code",
   "execution_count": 201,
   "id": "4cd885ea",
   "metadata": {},
   "outputs": [
    {
     "name": "stdout",
     "output_type": "stream",
     "text": [
      "For Training Dataset\n",
      "Mean absolute error:  3.7488591494672834\n",
      "Root mean square error:  4.794548089532108\n",
      "R2 score:  0.5099990959021242\n",
      "For Testing Dataset\n",
      "Mean absolute error:  3.792365478864507\n",
      "Root mean square error:  4.8378004936224555\n",
      "R2 score:  0.5327481529844798\n"
     ]
    }
   ],
   "source": [
    "y_pred = model.predict(X_train)\n",
    "rmse = np.sqrt(mean_squared_error(y_train,y_pred))\n",
    "r2 = r2_score(y_train, y_pred)\n",
    "mae = mean_absolute_error(y_train,y_pred)\n",
    "print (\"For Training Dataset\")\n",
    "print (\"Mean absolute error: \" , mae)\n",
    "print (\"Root mean square error: \", rmse)\n",
    "print (\"R2 score: \", r2)\n",
    "y_pred = model.predict (X_test)\n",
    "rmse = np.sqrt (mean_squared_error(y_test,y_pred))\n",
    "r2 = r2_score(y_test,y_pred)\n",
    "mae = mean_absolute_error(y_test,y_pred)\n",
    "print (\"For Testing Dataset\")\n",
    "print (\"Mean absolute error: \", mae)\n",
    "print (\"Root mean square error: \", rmse)\n",
    "print (\"R2 score: \", r2)"
   ]
  },
  {
   "cell_type": "code",
   "execution_count": 202,
   "id": "64db5ce5",
   "metadata": {},
   "outputs": [
    {
     "data": {
      "image/png": "[encoded data removed]",
      "text/plain": [
       "<Figure size 432x288 with 1 Axes>"
      ]
     },
     "metadata": {
      "needs_background": "light"
     },
     "output_type": "display_data"
    }
   ],
   "source": [
    "import matplotlib.pyplot as plt\n",
    "plt.scatter (y_test, y_pred, c='g')\n",
    "plt.plot (y_test, y_test, c='red' )\n",
    "plt. show()"
   ]
  },
  {
   "cell_type": "code",
   "execution_count": 203,
   "id": "e3205c2b",
   "metadata": {},
   "outputs": [],
   "source": [
    "#Ridge Regularization\n",
    "#Ashay\n",
    "#Aditya \n",
    "#Priyanka\n",
    "#Chandan"
   ]
  },
  {
   "cell_type": "code",
   "execution_count": 204,
   "id": "4771ba66",
   "metadata": {},
   "outputs": [],
   "source": [
    "from sklearn.linear_model import Ridge\n",
    "model = Ridge()\n",
    "model = model.fit(X_train, y_train)"
   ]
  },
  {
   "cell_type": "code",
   "execution_count": 205,
   "id": "031736da",
   "metadata": {},
   "outputs": [
    {
     "name": "stdout",
     "output_type": "stream",
     "text": [
      "For Training Dataset\n",
      "Mean absolute error:  3.9141188194327814\n",
      "Root mean square error:  4.922045380647812\n",
      "R2 score:  0.48359225105548165\n",
      "For Testing Dataset\n",
      "Mean absolute error:  4.039180919799047\n",
      "Root mean square error:  5.073669264010964\n",
      "R2 score:  0.48607537823113145\n"
     ]
    }
   ],
   "source": [
    "y_pred = model.predict(X_train)\n",
    "rmse = np.sqrt(mean_squared_error(y_train,y_pred))\n",
    "r2 = r2_score(y_train, y_pred)\n",
    "mae = mean_absolute_error(y_train,y_pred)\n",
    "print (\"For Training Dataset\")\n",
    "print (\"Mean absolute error: \" , mae)\n",
    "print (\"Root mean square error: \", rmse)\n",
    "print (\"R2 score: \", r2)\n",
    "y_pred = model.predict (X_test)\n",
    "rmse = np.sqrt (mean_squared_error(y_test,y_pred))\n",
    "r2 = r2_score(y_test,y_pred)\n",
    "mae = mean_absolute_error(y_test,y_pred)\n",
    "print (\"For Testing Dataset\")\n",
    "print (\"Mean absolute error: \", mae)\n",
    "print (\"Root mean square error: \", rmse)\n",
    "print (\"R2 score: \", r2)"
   ]
  },
  {
   "cell_type": "code",
   "execution_count": 206,
   "id": "3beb8dcd",
   "metadata": {},
   "outputs": [
    {
     "data": {
      "image/png": "[encoded data removed]",
      "text/plain": [
       "<Figure size 432x288 with 1 Axes>"
      ]
     },
     "metadata": {
      "needs_background": "light"
     },
     "output_type": "display_data"
    }
   ],
   "source": [
    "import matplotlib.pyplot as plt\n",
    "plt.scatter (y_test, y_pred, c='g')\n",
    "plt.plot (y_test, y_test, c='red' )\n",
    "plt. show()"
   ]
  },
  {
   "cell_type": "code",
   "execution_count": 207,
   "id": "654d7e64",
   "metadata": {},
   "outputs": [],
   "source": [
    "#Lasso Regularization\n",
    "#Ashay\n",
    "#Aditya \n",
    "#Priyanka\n",
    "#Chandan"
   ]
  },
  {
   "cell_type": "code",
   "execution_count": 208,
   "id": "c7ab5e78",
   "metadata": {},
   "outputs": [],
   "source": [
    "from sklearn.linear_model import Lasso\n",
    "model = Lasso()\n",
    "model = model.fit(X_train, y_train)"
   ]
  },
  {
   "cell_type": "code",
   "execution_count": 209,
   "id": "73514343",
   "metadata": {},
   "outputs": [
    {
     "name": "stdout",
     "output_type": "stream",
     "text": [
      "For Training Dataset\n",
      "Mean absolute error:  4.767290666012821\n",
      "Root mean square error:  5.844564550195864\n",
      "R2 score:  0.27187516801243683\n",
      "For Testing Dataset\n",
      "Mean absolute error:  4.998794121834224\n",
      "Root mean square error:  6.105300662050013\n",
      "R2 score:  0.25583501742684156\n"
     ]
    }
   ],
   "source": [
    "y_pred = model.predict(X_train)\n",
    "rmse = np.sqrt(mean_squared_error(y_train,y_pred))\n",
    "r2 = r2_score(y_train, y_pred)\n",
    "mae = mean_absolute_error(y_train,y_pred)\n",
    "print (\"For Training Dataset\")\n",
    "print (\"Mean absolute error: \" , mae)\n",
    "print (\"Root mean square error: \", rmse)\n",
    "print (\"R2 score: \", r2)\n",
    "y_pred = model.predict (X_test)\n",
    "rmse = np.sqrt (mean_squared_error(y_test,y_pred))\n",
    "r2 = r2_score(y_test,y_pred)\n",
    "mae = mean_absolute_error(y_test,y_pred)\n",
    "print (\"For Testing Dataset\")\n",
    "print (\"Mean absolute error: \", mae)\n",
    "print (\"Root mean square error: \", rmse)\n",
    "print (\"R2 score: \", r2)"
   ]
  },
  {
   "cell_type": "code",
   "execution_count": 210,
   "id": "256a501f",
   "metadata": {},
   "outputs": [
    {
     "data": {
      "image/png": "[encoded data removed]",
      "text/plain": [
       "<Figure size 432x288 with 1 Axes>"
      ]
     },
     "metadata": {
      "needs_background": "light"
     },
     "output_type": "display_data"
    }
   ],
   "source": [
    "import matplotlib.pyplot as plt\n",
    "plt.scatter (y_test, y_pred, c='g')\n",
    "plt.plot (y_test, y_test, c='red' )\n",
    "plt. show()"
   ]
  },
  {
   "cell_type": "code",
   "execution_count": 211,
   "id": "441eb762",
   "metadata": {},
   "outputs": [],
   "source": [
    "#Elastic Net Regularization\n",
    "#Ashay\n",
    "#Aditya \n",
    "#Priyanka\n",
    "#Chandan"
   ]
  },
  {
   "cell_type": "code",
   "execution_count": 212,
   "id": "f7ad6c8e",
   "metadata": {},
   "outputs": [],
   "source": [
    "from sklearn.linear_model import ElasticNet\n",
    "model = ElasticNet()\n",
    "model = model.fit(X_train, y_train)"
   ]
  },
  {
   "cell_type": "code",
   "execution_count": 213,
   "id": "e9744cd3",
   "metadata": {},
   "outputs": [
    {
     "name": "stdout",
     "output_type": "stream",
     "text": [
      "For Training Dataset\n",
      "Mean absolute error:  4.771766473816726\n",
      "Root mean square error:  5.842681291093589\n",
      "R2 score:  0.27234433103773337\n",
      "For Testing Dataset\n",
      "Mean absolute error:  4.998290083430594\n",
      "Root mean square error:  6.1030541219749415\n",
      "R2 score:  0.25638257076339954\n"
     ]
    }
   ],
   "source": [
    "y_pred = model.predict(X_train)\n",
    "rmse = np.sqrt(mean_squared_error(y_train,y_pred))\n",
    "r2 = r2_score(y_train, y_pred)\n",
    "mae = mean_absolute_error(y_train,y_pred)\n",
    "print (\"For Training Dataset\")\n",
    "print (\"Mean absolute error: \" , mae)\n",
    "print (\"Root mean square error: \", rmse)\n",
    "print (\"R2 score: \", r2)\n",
    "y_pred = model.predict (X_test)\n",
    "rmse = np.sqrt (mean_squared_error(y_test,y_pred))\n",
    "r2 = r2_score(y_test,y_pred)\n",
    "mae = mean_absolute_error(y_test,y_pred)\n",
    "print (\"For Testing Dataset\")\n",
    "print (\"Mean absolute error: \", mae)\n",
    "print (\"Root mean square error: \", rmse)\n",
    "print (\"R2 score: \", r2)"
   ]
  },
  {
   "cell_type": "code",
   "execution_count": 214,
   "id": "4bf0b653",
   "metadata": {},
   "outputs": [
    {
     "data": {
      "image/png": "[encoded data removed]",
      "text/plain": [
       "<Figure size 432x288 with 1 Axes>"
      ]
     },
     "metadata": {
      "needs_background": "light"
     },
     "output_type": "display_data"
    }
   ],
   "source": [
    "import matplotlib.pyplot as plt\n",
    "plt.scatter (y_test, y_pred, c='g')\n",
    "plt.plot (y_test, y_test, c='red' )\n",
    "plt. show()"
   ]
  },
  {
   "cell_type": "code",
   "execution_count": 215,
   "id": "8a70d457",
   "metadata": {},
   "outputs": [],
   "source": [
    "#Polynomial Regression\n",
    "#Ashay\n",
    "#Aditya \n",
    "#Priyanka\n",
    "#Chandan"
   ]
  },
  {
   "cell_type": "code",
   "execution_count": 216,
   "id": "c8676531",
   "metadata": {},
   "outputs": [],
   "source": [
    "from sklearn.preprocessing import PolynomialFeatures\n",
    "polynomial_features= PolynomialFeatures(degree=2)\n",
    "X_train_poly = polynomial_features.fit_transform(X_train)\n",
    "X_test_poly = polynomial_features.fit_transform(X_test)\n",
    "model = LinearRegression()\n",
    "model = model.fit(X_train_poly, y_train)"
   ]
  },
  {
   "cell_type": "code",
   "execution_count": 217,
   "id": "b03b7cc8",
   "metadata": {},
   "outputs": [
    {
     "name": "stdout",
     "output_type": "stream",
     "text": [
      "For Training Dataset\n",
      "Mean absolute error:  3.1439566033262825\n",
      "Root mean square error:  4.05144945029207\n",
      "R2 score:  0.6501173778702919\n",
      "For Testing Dataset\n",
      "Mean absolute error:  3.337147340782475\n",
      "Root mean square error:  4.375167886545856\n",
      "R2 score:  0.6178405852644144\n"
     ]
    }
   ],
   "source": [
    "y_pred = model.predict(X_train_poly)\n",
    "rmse = np.sqrt(mean_squared_error(y_train,y_pred))\n",
    "r2 = r2_score(y_train, y_pred)\n",
    "mae = mean_absolute_error(y_train,y_pred)\n",
    "print (\"For Training Dataset\")\n",
    "print (\"Mean absolute error: \" , mae)\n",
    "print (\"Root mean square error: \", rmse)\n",
    "print (\"R2 score: \", r2)\n",
    "y_pred = model.predict (X_test_poly)\n",
    "rmse = np.sqrt (mean_squared_error(y_test,y_pred))\n",
    "r2 = r2_score(y_test,y_pred)\n",
    "mae = mean_absolute_error(y_test,y_pred)\n",
    "print (\"For Testing Dataset\")\n",
    "print (\"Mean absolute error: \", mae)\n",
    "print (\"Root mean square error: \", rmse)\n",
    "print (\"R2 score: \", r2)"
   ]
  },
  {
   "cell_type": "code",
   "execution_count": 218,
   "id": "de6a9758",
   "metadata": {},
   "outputs": [
    {
     "data": {
      "image/png": "[encoded data removed]",
      "text/plain": [
       "<Figure size 432x288 with 1 Axes>"
      ]
     },
     "metadata": {
      "needs_background": "light"
     },
     "output_type": "display_data"
    }
   ],
   "source": [
    "import matplotlib.pyplot as plt\n",
    "plt.scatter (y_test, y_pred, c='g')\n",
    "plt.plot (y_test, y_test, c='red' )\n",
    "plt. show()"
   ]
  },
  {
   "cell_type": "code",
   "execution_count": 219,
   "id": "fee44fd7",
   "metadata": {},
   "outputs": [],
   "source": [
    "from sklearn.preprocessing import PolynomialFeatures\n",
    "polynomial_features= PolynomialFeatures(degree=3)\n",
    "X_train_poly = polynomial_features.fit_transform(X_train)\n",
    "X_test_poly = polynomial_features.fit_transform(X_test)\n",
    "model = LinearRegression()\n",
    "model = model.fit(X_train_poly, y_train)"
   ]
  },
  {
   "cell_type": "code",
   "execution_count": 220,
   "id": "138e15e0",
   "metadata": {},
   "outputs": [
    {
     "name": "stdout",
     "output_type": "stream",
     "text": [
      "For Training Dataset\n",
      "Mean absolute error:  2.5477938838185348\n",
      "Root mean square error:  3.3395279426327633\n",
      "R2 score:  0.7622767348442794\n",
      "For Testing Dataset\n",
      "Mean absolute error:  2.932984833334792\n",
      "Root mean square error:  3.834445780080373\n",
      "R2 score:  0.7064647108828821\n"
     ]
    }
   ],
   "source": [
    "y_pred = model.predict(X_train_poly)\n",
    "rmse = np.sqrt(mean_squared_error(y_train,y_pred))\n",
    "r2 = r2_score(y_train, y_pred)\n",
    "mae = mean_absolute_error(y_train,y_pred)\n",
    "print (\"For Training Dataset\")\n",
    "print (\"Mean absolute error: \" , mae)\n",
    "print (\"Root mean square error: \", rmse)\n",
    "print (\"R2 score: \", r2)\n",
    "y_pred = model.predict (X_test_poly)\n",
    "rmse = np.sqrt (mean_squared_error(y_test,y_pred))\n",
    "r2 = r2_score(y_test,y_pred)\n",
    "mae = mean_absolute_error(y_test,y_pred)\n",
    "print (\"For Testing Dataset\")\n",
    "print (\"Mean absolute error: \", mae)\n",
    "print (\"Root mean square error: \", rmse)\n",
    "print (\"R2 score: \", r2)"
   ]
  },
  {
   "cell_type": "code",
   "execution_count": 221,
   "id": "88ca7770",
   "metadata": {},
   "outputs": [
    {
     "data": {
      "image/png": "[encoded data removed]",
      "text/plain": [
       "<Figure size 432x288 with 1 Axes>"
      ]
     },
     "metadata": {
      "needs_background": "light"
     },
     "output_type": "display_data"
    }
   ],
   "source": [
    "import matplotlib.pyplot as plt\n",
    "plt.scatter (y_test, y_pred, c='g')\n",
    "plt.plot (y_test, y_test, c='red' )\n",
    "plt. show()"
   ]
  },
  {
   "cell_type": "code",
   "execution_count": 222,
   "id": "8770e530",
   "metadata": {},
   "outputs": [],
   "source": [
    "from sklearn.preprocessing import PolynomialFeatures\n",
    "polynomial_features= PolynomialFeatures(degree=4)\n",
    "X_train_poly = polynomial_features.fit_transform(X_train)\n",
    "X_test_poly = polynomial_features.fit_transform(X_test)\n",
    "model = LinearRegression()\n",
    "model = model.fit(X_train_poly, y_train)"
   ]
  },
  {
   "cell_type": "code",
   "execution_count": 223,
   "id": "5c8155f9",
   "metadata": {},
   "outputs": [
    {
     "name": "stdout",
     "output_type": "stream",
     "text": [
      "For Training Dataset\n",
      "Mean absolute error:  2.325589058796985\n",
      "Root mean square error:  3.0884321122116285\n",
      "R2 score:  0.7966811511180627\n",
      "For Testing Dataset\n",
      "Mean absolute error:  2.767564322442021\n",
      "Root mean square error:  3.7354064850645874\n",
      "R2 score:  0.7214322382838367\n"
     ]
    }
   ],
   "source": [
    "y_pred = model.predict(X_train_poly)\n",
    "rmse = np.sqrt(mean_squared_error(y_train,y_pred))\n",
    "r2 = r2_score(y_train, y_pred)\n",
    "mae = mean_absolute_error(y_train,y_pred)\n",
    "print (\"For Training Dataset\")\n",
    "print (\"Mean absolute error: \" , mae)\n",
    "print (\"Root mean square error: \", rmse)\n",
    "print (\"R2 score: \", r2)\n",
    "y_pred = model.predict (X_test_poly)\n",
    "rmse = np.sqrt (mean_squared_error(y_test,y_pred))\n",
    "r2 = r2_score(y_test,y_pred)\n",
    "mae = mean_absolute_error(y_test,y_pred)\n",
    "print (\"For Testing Dataset\")\n",
    "print (\"Mean absolute error: \", mae)\n",
    "print (\"Root mean square error: \", rmse)\n",
    "print (\"R2 score: \", r2)"
   ]
  },
  {
   "cell_type": "code",
   "execution_count": 224,
   "id": "ea031e23",
   "metadata": {},
   "outputs": [
    {
     "data": {
      "image/png": "[encoded data removed]",
      "text/plain": [
       "<Figure size 432x288 with 1 Axes>"
      ]
     },
     "metadata": {
      "needs_background": "light"
     },
     "output_type": "display_data"
    }
   ],
   "source": [
    "import matplotlib.pyplot as plt\n",
    "plt.scatter (y_test, y_pred, c='g')\n",
    "plt.plot (y_test, y_test, c='red' )\n",
    "plt. show()"
   ]
  },
  {
   "cell_type": "code",
   "execution_count": 225,
   "id": "f1f7d180",
   "metadata": {},
   "outputs": [],
   "source": [
    "# Decision Tree Regression\n",
    "#Ashay\n",
    "#Aditya \n",
    "#Priyanka\n",
    "#Chandan"
   ]
  },
  {
   "cell_type": "code",
   "execution_count": 226,
   "id": "ff933919",
   "metadata": {},
   "outputs": [],
   "source": [
    "from sklearn.tree import DecisionTreeRegressor\n",
    "regr = DecisionTreeRegressor(random_state=0)\n",
    "regr = regr.fit(X_train, y_train)"
   ]
  },
  {
   "cell_type": "code",
   "execution_count": 227,
   "id": "87d9a3f6",
   "metadata": {},
   "outputs": [
    {
     "name": "stdout",
     "output_type": "stream",
     "text": [
      "For Training Dataset\n",
      "Mean absolute error:  0.0\n",
      "Root mean square error:  0.0\n",
      "R2 score:  1.0\n",
      "For Testing Dataset\n",
      "Mean absolute error:  1.6432491694352163\n",
      "Root mean square error:  2.353455540984088\n",
      "R2 score:  0.8894224114365185\n"
     ]
    }
   ],
   "source": [
    "y_pred = regr.predict(X_train)\n",
    "rmse = np.sqrt(mean_squared_error(y_train,y_pred))\n",
    "r2 = r2_score(y_train, y_pred)\n",
    "mae = mean_absolute_error(y_train,y_pred)\n",
    "print (\"For Training Dataset\")\n",
    "print (\"Mean absolute error: \" , mae)\n",
    "print (\"Root mean square error: \", rmse)\n",
    "print (\"R2 score: \", r2)\n",
    "y_pred = regr.predict (X_test)\n",
    "rmse = np.sqrt (mean_squared_error(y_test,y_pred))\n",
    "r2 = r2_score(y_test,y_pred)\n",
    "mae = mean_absolute_error(y_test,y_pred)\n",
    "print (\"For Testing Dataset\")\n",
    "print (\"Mean absolute error: \", mae)\n",
    "print (\"Root mean square error: \", rmse)\n",
    "print (\"R2 score: \", r2)"
   ]
  },
  {
   "cell_type": "code",
   "execution_count": 228,
   "id": "fb935031",
   "metadata": {},
   "outputs": [
    {
     "data": {
      "image/png": "[encoded data removed]",
      "text/plain": [
       "<Figure size 432x288 with 1 Axes>"
      ]
     },
     "metadata": {
      "needs_background": "light"
     },
     "output_type": "display_data"
    }
   ],
   "source": [
    "import matplotlib.pyplot as plt\n",
    "plt.scatter (y_test, y_pred, c='g')\n",
    "plt.plot (y_test, y_test, c='red' )\n",
    "plt. show()"
   ]
  },
  {
   "cell_type": "code",
   "execution_count": 229,
   "id": "182cb0c0",
   "metadata": {},
   "outputs": [],
   "source": [
    "#Random Forest Regression\n",
    "#Ashay\n",
    "#Aditya \n",
    "#Priyanka\n",
    "#Chandan"
   ]
  },
  {
   "cell_type": "code",
   "execution_count": 230,
   "id": "dc41c958",
   "metadata": {},
   "outputs": [],
   "source": [
    "from sklearn.ensemble import RandomForestRegressor\n",
    "regr = RandomForestRegressor (max_depth=3, random_state=0, n_estimators=100)\n",
    "regr = regr.fit(X_train, y_train)"
   ]
  },
  {
   "cell_type": "code",
   "execution_count": 231,
   "id": "9aeddde8",
   "metadata": {},
   "outputs": [
    {
     "name": "stdout",
     "output_type": "stream",
     "text": [
      "For Training Dataset\n",
      "Mean absolute error:  3.5211421010745894\n",
      "Root mean square error:  4.419439977370274\n",
      "R2 score:  0.5836716328486313\n",
      "For Testing Dataset\n",
      "Mean absolute error:  3.671384728252559\n",
      "Root mean square error:  4.568175622715858\n",
      "R2 score:  0.5833794368062342\n"
     ]
    }
   ],
   "source": [
    "y_pred = regr.predict(X_train)\n",
    "rmse = np.sqrt(mean_squared_error(y_train,y_pred))\n",
    "r2 = r2_score(y_train, y_pred)\n",
    "mae = mean_absolute_error(y_train,y_pred)\n",
    "print (\"For Training Dataset\")\n",
    "print (\"Mean absolute error: \" , mae)\n",
    "print (\"Root mean square error: \", rmse)\n",
    "print (\"R2 score: \", r2)\n",
    "y_pred = regr.predict (X_test)\n",
    "rmse = np.sqrt (mean_squared_error(y_test,y_pred))\n",
    "r2 = r2_score(y_test,y_pred)\n",
    "mae = mean_absolute_error(y_test,y_pred)\n",
    "print (\"For Testing Dataset\")\n",
    "print (\"Mean absolute error: \", mae)\n",
    "print (\"Root mean square error: \", rmse)\n",
    "print (\"R2 score: \", r2)"
   ]
  },
  {
   "cell_type": "code",
   "execution_count": 232,
   "id": "f76d2a7e",
   "metadata": {},
   "outputs": [
    {
     "data": {
      "image/png": "[encoded data removed]",
      "text/plain": [
       "<Figure size 432x288 with 1 Axes>"
      ]
     },
     "metadata": {
      "needs_background": "light"
     },
     "output_type": "display_data"
    }
   ],
   "source": [
    "import matplotlib.pyplot as plt\n",
    "plt.scatter (y_test, y_pred, c='g')\n",
    "plt.plot (y_test, y_test, c='red' )\n",
    "plt. show()"
   ]
  },
  {
   "cell_type": "code",
   "execution_count": null,
   "id": "22effe30",
   "metadata": {},
   "outputs": [],
   "source": []
  },
  {
   "cell_type": "code",
   "execution_count": null,
   "id": "be48d743",
   "metadata": {},
   "outputs": [],
   "source": []
  }
 ],
 "metadata": {
  "kernelspec": {
   "display_name": "Python 3",
   "language": "python",
   "name": "python3"
  },
  "language_info": {
   "codemirror_mode": {
    "name": "ipython",
    "version": 3
   },
   "file_extension": ".py",
   "mimetype": "text/x-python",
   "name": "python",
   "nbconvert_exporter": "python",
   "pygments_lexer": "ipython3",
   "version": "3.8.8"
  }
 },
 "nbformat": 4,
 "nbformat_minor": 5
}
